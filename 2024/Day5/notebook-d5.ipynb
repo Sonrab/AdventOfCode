{
 "cells": [
  {
   "cell_type": "code",
   "execution_count": 46,
   "metadata": {
    "dotnet_interactive": {
     "language": "csharp"
    },
    "polyglot_notebook": {
     "kernelName": "csharp"
    }
   },
   "outputs": [],
   "source": [
    "using System.IO;"
   ]
  },
  {
   "cell_type": "code",
   "execution_count": 47,
   "metadata": {
    "dotnet_interactive": {
     "language": "csharp"
    },
    "polyglot_notebook": {
     "kernelName": "csharp"
    }
   },
   "outputs": [],
   "source": [
    "var input = File.Exists(\"input.txt\") \n",
    "    ? File.ReadAllText(\"input.txt\")\n",
    "    : throw new Exception(\"Hittar inte filen\");"
   ]
  },
  {
   "cell_type": "code",
   "execution_count": null,
   "metadata": {
    "dotnet_interactive": {
     "language": "csharp"
    },
    "polyglot_notebook": {
     "kernelName": "csharp"
    }
   },
   "outputs": [],
   "source": [
    "var split = input.Split(\"\\n\\r\", StringSplitOptions.RemoveEmptyEntries);\n",
    "var unparsedRules = split[0].Split(\"\\n\", StringSplitOptions.RemoveEmptyEntries);\n",
    "var updates = split[1].Split(\"\\n\", StringSplitOptions.RemoveEmptyEntries).Select(u => u.Split(\",\", StringSplitOptions.RemoveEmptyEntries).Select(uu => int.Parse(uu)).ToArray());"
   ]
  },
  {
   "cell_type": "code",
   "execution_count": null,
   "metadata": {
    "dotnet_interactive": {
     "language": "csharp"
    },
    "polyglot_notebook": {
     "kernelName": "csharp"
    }
   },
   "outputs": [],
   "source": [
    "var rules = new Dictionary<int, List<int>>();\n",
    "foreach(var rule in unparsedRules)\n",
    "{\n",
    "    var left = int.Parse(rule.Split(\"|\")[0]);\n",
    "    var right = int.Parse(rule.Split(\"|\")[1]);\n",
    "\n",
    "    if(rules.ContainsKey(left) && !rules[left].Contains(right)) rules[left].Add(right);\n",
    "    else rules.Add(left, [right]);\n",
    "}"
   ]
  },
  {
   "cell_type": "code",
   "execution_count": null,
   "metadata": {
    "dotnet_interactive": {
     "language": "csharp"
    },
    "polyglot_notebook": {
     "kernelName": "csharp"
    }
   },
   "outputs": [],
   "source": [
    "public static bool ContainsAnyOf(this IEnumerable<int> values, IEnumerable<int> sequence) => values.Any(v => sequence.Contains(v));\n",
    "\n",
    "public bool IsOrdered(int[] update, Dictionary<int, List<int>> rules)\n",
    "{\n",
    "    for(int i = 1; i < update.Length; i++)\n",
    "    {\n",
    "        if(rules.ContainsKey(update[i]) && update[0..i].ContainsAnyOf(rules[update[i]]))\n",
    "        {\n",
    "            return false;\n",
    "        }\n",
    "    }\n",
    "\n",
    "    return true;\n",
    "}\n",
    "\n",
    "public static int[] OrderUpdate(this int[] update, Dictionary<int, List<int>> rules) //sätt in för enbart denna rule\n",
    "{\n",
    "    for (int i = 1; i < update.Length; i++)\n",
    "    {\n",
    "        while (rules.ContainsKey(update[i]) && update[0..i].ContainsAnyOf(rules[update[i]]))\n",
    "        {\n",
    "            (update[i], update[i-1]) = (update[i-1], update[i]);\n",
    "            i--;\n",
    "        }\n",
    "    }\n",
    "    \n",
    "    return update;\n",
    "}"
   ]
  },
  {
   "cell_type": "markdown",
   "metadata": {},
   "source": [
    "Part 1 + Part 2"
   ]
  },
  {
   "cell_type": "code",
   "execution_count": null,
   "metadata": {
    "dotnet_interactive": {
     "language": "csharp"
    },
    "polyglot_notebook": {
     "kernelName": "csharp"
    }
   },
   "outputs": [
    {
     "name": "stdout",
     "output_type": "stream",
     "text": [
      "Ordered: 4957 \n",
      "Unordered: 6938\r\n"
     ]
    }
   ],
   "source": [
    "var sumOrdered = 0;\n",
    "var sumUnordered = 0;\n",
    "\n",
    "foreach(var update in updates)\n",
    "{\n",
    "    var middle = update.Length/2;\n",
    "    \n",
    "    if(IsOrdered(update, rules))\n",
    "    {\n",
    "        sumOrdered += update[middle];\n",
    "    }\n",
    "    else\n",
    "    {\n",
    "        update.OrderUpdate(rules);\n",
    "        sumUnordered += update[middle];\n",
    "    }\n",
    "}\n",
    "\n",
    "Console.WriteLine($\"Ordered: {sumOrdered} \\nUnordered: {sumUnordered}\");"
   ]
  }
 ],
 "metadata": {
  "kernelspec": {
   "display_name": ".NET (C#)",
   "language": "C#",
   "name": ".net-csharp"
  },
  "polyglot_notebook": {
   "kernelInfo": {
    "defaultKernelName": "csharp",
    "items": [
     {
      "aliases": [],
      "languageName": "csharp",
      "name": "csharp"
     }
    ]
   }
  }
 },
 "nbformat": 4,
 "nbformat_minor": 2
}
