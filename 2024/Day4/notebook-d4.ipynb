{
 "cells": [
  {
   "cell_type": "code",
   "execution_count": 46,
   "metadata": {
    "dotnet_interactive": {
     "language": "csharp"
    },
    "polyglot_notebook": {
     "kernelName": "csharp"
    }
   },
   "outputs": [],
   "source": [
    "using System.IO;"
   ]
  },
  {
   "cell_type": "code",
   "execution_count": 47,
   "metadata": {
    "dotnet_interactive": {
     "language": "csharp"
    },
    "polyglot_notebook": {
     "kernelName": "csharp"
    }
   },
   "outputs": [],
   "source": [
    "var input = File.Exists(\"input.txt\") \n",
    "    ? File.ReadAllText(\"input.txt\")\n",
    "    : throw new Exception(\"Hittar inte filen\");"
   ]
  },
  {
   "cell_type": "markdown",
   "metadata": {},
   "source": [
    "Part 1"
   ]
  },
  {
   "cell_type": "code",
   "execution_count": 49,
   "metadata": {},
   "outputs": [
    {
     "data": {
      "text/html": [
       "<div class=\"dni-plaintext\"><pre>2514</pre></div><style>\r\n",
       ".dni-code-hint {\r\n",
       "    font-style: italic;\r\n",
       "    overflow: hidden;\r\n",
       "    white-space: nowrap;\r\n",
       "}\r\n",
       ".dni-treeview {\r\n",
       "    white-space: nowrap;\r\n",
       "}\r\n",
       ".dni-treeview td {\r\n",
       "    vertical-align: top;\r\n",
       "    text-align: start;\r\n",
       "}\r\n",
       "details.dni-treeview {\r\n",
       "    padding-left: 1em;\r\n",
       "}\r\n",
       "table td {\r\n",
       "    text-align: start;\r\n",
       "}\r\n",
       "table tr { \r\n",
       "    vertical-align: top; \r\n",
       "    margin: 0em 0px;\r\n",
       "}\r\n",
       "table tr td pre \r\n",
       "{ \r\n",
       "    vertical-align: top !important; \r\n",
       "    margin: 0em 0px !important;\r\n",
       "} \r\n",
       "table th {\r\n",
       "    text-align: start;\r\n",
       "}\r\n",
       "</style>"
      ]
     },
     "metadata": {},
     "output_type": "display_data"
    }
   ],
   "source": [
    "var grid = input.Split(\"\\n\", StringSplitOptions.RemoveEmptyEntries);\n",
    "int xmasCount = 0;\n",
    "\n",
    "for(int row = 0; row < grid.Length; row++)\n",
    "{\n",
    "    for(int col = 0; col < grid[row].Length; col++)\n",
    "    {\n",
    "        if(grid[row][col] != 'X') continue;\n",
    "\n",
    "        if(col+3 < grid[row].Length && grid[row][col+1] == 'M' && grid[row][col+2] == 'A' && grid[row][col+3] == 'S') xmasCount++; //west to east\n",
    "        if(col-3 >= 0 && grid[row][col-1] == 'M' && grid[row][col-2] == 'A' && grid[row][col-3] == 'S') xmasCount++; //east to west\n",
    "        if(row+3 < grid.Length && grid[row+1][col] == 'M' && grid[row+2][col] == 'A' && grid[row+3][col] == 'S') xmasCount++; //north to south\n",
    "        if(row-3 >= 0 && grid[row-1][col] == 'M' && grid[row-2][col] == 'A' && grid[row-3][col] == 'S') xmasCount++; //south to north\n",
    "        if(row+3 < grid.Length && col+3 < grid[row].Length && grid[row+1][col+1] == 'M' && grid[row+2][col+2] == 'A' && grid[row+3][col+3] == 'S') xmasCount++; //northwest to southeast\n",
    "        if(row-3 >= 0 && col-3 >= 0 && grid[row-1][col-1] == 'M' && grid[row-2][col-2] == 'A' && grid[row-3][col-3] == 'S') xmasCount++; //southeast to northwest\n",
    "        if(row+3 < grid.Length && col-3 >= 0 && grid[row+1][col-1] == 'M' && grid[row+2][col-2] == 'A' && grid[row+3][col-3] == 'S') xmasCount++; //northeast to southwest\n",
    "        if(row-3 >= 0 && col+3 < grid[row].Length && grid[row-1][col+1] == 'M' && grid[row-2][col+2] == 'A' && grid[row-3][col+3] == 'S') xmasCount++; //southwest to northeast\n",
    "    }\n",
    "}\n",
    "\n",
    "xmasCount"
   ]
  },
  {
   "cell_type": "markdown",
   "metadata": {},
   "source": [
    "Part 2"
   ]
  },
  {
   "cell_type": "code",
   "execution_count": 61,
   "metadata": {
    "dotnet_interactive": {
     "language": "csharp"
    },
    "polyglot_notebook": {
     "kernelName": "csharp"
    }
   },
   "outputs": [
    {
     "data": {
      "text/html": [
       "<div class=\"dni-plaintext\"><pre>1888</pre></div><style>\r\n",
       ".dni-code-hint {\r\n",
       "    font-style: italic;\r\n",
       "    overflow: hidden;\r\n",
       "    white-space: nowrap;\r\n",
       "}\r\n",
       ".dni-treeview {\r\n",
       "    white-space: nowrap;\r\n",
       "}\r\n",
       ".dni-treeview td {\r\n",
       "    vertical-align: top;\r\n",
       "    text-align: start;\r\n",
       "}\r\n",
       "details.dni-treeview {\r\n",
       "    padding-left: 1em;\r\n",
       "}\r\n",
       "table td {\r\n",
       "    text-align: start;\r\n",
       "}\r\n",
       "table tr { \r\n",
       "    vertical-align: top; \r\n",
       "    margin: 0em 0px;\r\n",
       "}\r\n",
       "table tr td pre \r\n",
       "{ \r\n",
       "    vertical-align: top !important; \r\n",
       "    margin: 0em 0px !important;\r\n",
       "} \r\n",
       "table th {\r\n",
       "    text-align: start;\r\n",
       "}\r\n",
       "</style>"
      ]
     },
     "metadata": {},
     "output_type": "display_data"
    }
   ],
   "source": [
    "var grid = input.Split(\"\\n\", StringSplitOptions.RemoveEmptyEntries);\n",
    "int xmasCount = 0;\n",
    "\n",
    "for(int row = 0; row < grid.Length; row++)\n",
    "{\n",
    "    for(int col = 0; col < grid[row].Length; col++)\n",
    "    {\n",
    "        if(grid[row][col] != 'A') continue;\n",
    "        if(row+1 >= grid.Length || row-1 < 0 || col+1 >= grid[row].Length || col-1 < 0) continue;\n",
    "\n",
    "        //ordning på check -> NW, NE, SE, SW\n",
    "        if((grid[row-1][col-1] == 'M' && grid[row-1][col+1] == 'M' && grid[row+1][col+1] == 'S' && grid[row+1][col-1] == 'S')\n",
    "        || (grid[row-1][col-1] == 'S' && grid[row-1][col+1] == 'M' && grid[row+1][col+1] == 'M' && grid[row+1][col-1] == 'S')\n",
    "        || (grid[row-1][col-1] == 'S' && grid[row-1][col+1] == 'S' && grid[row+1][col+1] == 'M' && grid[row+1][col-1] == 'M')\n",
    "        || (grid[row-1][col-1] == 'M' && grid[row-1][col+1] == 'S' && grid[row+1][col+1] == 'S' && grid[row+1][col-1] == 'M'))\n",
    "        {\n",
    "            xmasCount++;\n",
    "        }\n",
    "\n",
    "    }\n",
    "}\n",
    "\n",
    "xmasCount"
   ]
  }
 ],
 "metadata": {
  "kernelspec": {
   "display_name": ".NET (C#)",
   "language": "C#",
   "name": ".net-csharp"
  },
  "polyglot_notebook": {
   "kernelInfo": {
    "defaultKernelName": "csharp",
    "items": [
     {
      "aliases": [],
      "languageName": "csharp",
      "name": "csharp"
     }
    ]
   }
  }
 },
 "nbformat": 4,
 "nbformat_minor": 2
}
