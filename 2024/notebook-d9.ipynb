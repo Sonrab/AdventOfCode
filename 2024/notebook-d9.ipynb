{
 "cells": [
  {
   "cell_type": "code",
   "execution_count": 1,
   "metadata": {
    "dotnet_interactive": {
     "language": "csharp"
    },
    "polyglot_notebook": {
     "kernelName": "csharp"
    }
   },
   "outputs": [],
   "source": [
    "using System.IO;"
   ]
  },
  {
   "cell_type": "code",
   "execution_count": 2,
   "metadata": {
    "dotnet_interactive": {
     "language": "csharp"
    },
    "polyglot_notebook": {
     "kernelName": "csharp"
    }
   },
   "outputs": [],
   "source": [
    "var input = File.Exists(\"inputs/input-d9.txt\") \n",
    "    ? File.ReadAllText(\"inputs/input-d9.txt\")\n",
    "    : throw new Exception(\"Hittar inte filen\");"
   ]
  },
  {
   "cell_type": "markdown",
   "metadata": {},
   "source": [
    "Part 1"
   ]
  },
  {
   "cell_type": "code",
   "execution_count": 3,
   "metadata": {
    "dotnet_interactive": {
     "language": "csharp"
    },
    "polyglot_notebook": {
     "kernelName": "csharp"
    }
   },
   "outputs": [],
   "source": [
    "var disc = input.SelectMany((c, i) => int.Parse(c.ToString()) is int n && i % 2 == 0 \n",
    "    ? Enumerable.Range(0, n).Select(_ => i/2)\n",
    "    : Enumerable.Range(0, n).Select(_ => -1)).ToArray();"
   ]
  },
  {
   "cell_type": "code",
   "execution_count": 4,
   "metadata": {
    "dotnet_interactive": {
     "language": "csharp"
    },
    "polyglot_notebook": {
     "kernelName": "csharp"
    }
   },
   "outputs": [],
   "source": [
    "int nextEmpty = 0;\n",
    "int nextBlock = disc.Length-1;\n",
    "\n",
    "while(true)\n",
    "{\n",
    "    while(disc[nextEmpty] != -1)\n",
    "        nextEmpty++;\n",
    "    \n",
    "    while(disc[nextBlock] == -1)\n",
    "        nextBlock--;\n",
    "\n",
    "    if(nextEmpty >= nextBlock) break;\n",
    "\n",
    "    (disc[nextEmpty], disc[nextBlock]) = (disc[nextBlock], disc[nextEmpty]);\n",
    "}"
   ]
  },
  {
   "cell_type": "code",
   "execution_count": 5,
   "metadata": {
    "dotnet_interactive": {
     "language": "csharp"
    },
    "polyglot_notebook": {
     "kernelName": "csharp"
    }
   },
   "outputs": [
    {
     "data": {
      "text/html": [
       "<div class=\"dni-plaintext\"><pre>6154342787400</pre></div><style>\r\n",
       ".dni-code-hint {\r\n",
       "    font-style: italic;\r\n",
       "    overflow: hidden;\r\n",
       "    white-space: nowrap;\r\n",
       "}\r\n",
       ".dni-treeview {\r\n",
       "    white-space: nowrap;\r\n",
       "}\r\n",
       ".dni-treeview td {\r\n",
       "    vertical-align: top;\r\n",
       "    text-align: start;\r\n",
       "}\r\n",
       "details.dni-treeview {\r\n",
       "    padding-left: 1em;\r\n",
       "}\r\n",
       "table td {\r\n",
       "    text-align: start;\r\n",
       "}\r\n",
       "table tr { \r\n",
       "    vertical-align: top; \r\n",
       "    margin: 0em 0px;\r\n",
       "}\r\n",
       "table tr td pre \r\n",
       "{ \r\n",
       "    vertical-align: top !important; \r\n",
       "    margin: 0em 0px !important;\r\n",
       "} \r\n",
       "table th {\r\n",
       "    text-align: start;\r\n",
       "}\r\n",
       "</style>"
      ]
     },
     "metadata": {},
     "output_type": "display_data"
    }
   ],
   "source": [
    "disc.Where(n => n != -1).Select((d, i) => (long)d*i).Sum()"
   ]
  },
  {
   "cell_type": "markdown",
   "metadata": {},
   "source": [
    "Part 2"
   ]
  },
  {
   "cell_type": "code",
   "execution_count": 6,
   "metadata": {
    "dotnet_interactive": {
     "language": "csharp"
    },
    "polyglot_notebook": {
     "kernelName": "csharp"
    }
   },
   "outputs": [],
   "source": [
    "public record Block(int Id, int Size);\n",
    "\n",
    "var disc = input.Select((c, i) => int.Parse(c.ToString()) is int n && i % 2 == 0 \n",
    "    ? new Block(i/2, n)\n",
    "    : new Block(-1, n))\n",
    "    .Where(b => b.Size > 0)\n",
    "    .ToList();"
   ]
  },
  {
   "cell_type": "code",
   "execution_count": 7,
   "metadata": {
    "dotnet_interactive": {
     "language": "csharp"
    },
    "polyglot_notebook": {
     "kernelName": "csharp"
    }
   },
   "outputs": [],
   "source": [
    "int nextFileBlock = disc.Count - 1;\n",
    "\n",
    "while (true)\n",
    "{\n",
    "    int nextEmptyBlock = 0;\n",
    "\n",
    "    while(nextFileBlock > 0 && disc[nextFileBlock].Id == -1)\n",
    "        nextFileBlock--;\n",
    "\n",
    "    while (nextEmptyBlock < nextFileBlock && (disc[nextEmptyBlock].Id != -1 || disc[nextEmptyBlock].Size < disc[nextFileBlock].Size))\n",
    "        nextEmptyBlock++;\n",
    "\n",
    "    if (nextEmptyBlock == nextFileBlock)\n",
    "    {\n",
    "        nextFileBlock--;\n",
    "        continue;\n",
    "    }\n",
    "    else if(nextFileBlock <= 0)\n",
    "    {\n",
    "        break;\n",
    "    }\n",
    "        \n",
    "    if (disc[nextFileBlock].Size == disc[nextEmptyBlock].Size)\n",
    "    {\n",
    "        (disc[nextEmptyBlock], disc[nextFileBlock]) = (disc[nextFileBlock], disc[nextEmptyBlock]);\n",
    "        nextFileBlock--;\n",
    "    }\n",
    "    else if (disc[nextFileBlock].Size < disc[nextEmptyBlock].Size)\n",
    "    {\n",
    "        var leftover = disc[nextEmptyBlock].Size - disc[nextFileBlock].Size;\n",
    "\n",
    "        disc[nextEmptyBlock] = disc[nextEmptyBlock] with { Size = disc[nextFileBlock].Size }; \n",
    "        \n",
    "        (disc[nextEmptyBlock], disc[nextFileBlock]) = (disc[nextFileBlock], disc[nextEmptyBlock]);\n",
    "        disc.Insert(nextEmptyBlock + 1, new Block(-1, leftover));\n",
    "    }\n",
    "}"
   ]
  },
  {
   "cell_type": "code",
   "execution_count": 8,
   "metadata": {
    "dotnet_interactive": {
     "language": "csharp"
    },
    "polyglot_notebook": {
     "kernelName": "csharp"
    }
   },
   "outputs": [
    {
     "data": {
      "text/html": [
       "<div class=\"dni-plaintext\"><pre>6183632723350</pre></div><style>\r\n",
       ".dni-code-hint {\r\n",
       "    font-style: italic;\r\n",
       "    overflow: hidden;\r\n",
       "    white-space: nowrap;\r\n",
       "}\r\n",
       ".dni-treeview {\r\n",
       "    white-space: nowrap;\r\n",
       "}\r\n",
       ".dni-treeview td {\r\n",
       "    vertical-align: top;\r\n",
       "    text-align: start;\r\n",
       "}\r\n",
       "details.dni-treeview {\r\n",
       "    padding-left: 1em;\r\n",
       "}\r\n",
       "table td {\r\n",
       "    text-align: start;\r\n",
       "}\r\n",
       "table tr { \r\n",
       "    vertical-align: top; \r\n",
       "    margin: 0em 0px;\r\n",
       "}\r\n",
       "table tr td pre \r\n",
       "{ \r\n",
       "    vertical-align: top !important; \r\n",
       "    margin: 0em 0px !important;\r\n",
       "} \r\n",
       "table th {\r\n",
       "    text-align: start;\r\n",
       "}\r\n",
       "</style>"
      ]
     },
     "metadata": {},
     "output_type": "display_data"
    }
   ],
   "source": [
    "var res = disc.SelectMany(b => Enumerable.Range(0, b.Size).Select(_ => b.Id != -1 ? b.Id : 0));\n",
    "res.Select((d, i) => (long)d*i).Sum()"
   ]
  }
 ],
 "metadata": {
  "kernelspec": {
   "display_name": ".NET (C#)",
   "language": "C#",
   "name": ".net-csharp"
  },
  "polyglot_notebook": {
   "kernelInfo": {
    "defaultKernelName": "csharp",
    "items": [
     {
      "aliases": [],
      "languageName": "csharp",
      "name": "csharp"
     }
    ]
   }
  }
 },
 "nbformat": 4,
 "nbformat_minor": 2
}
