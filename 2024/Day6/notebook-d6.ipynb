{
 "cells": [
  {
   "cell_type": "code",
   "execution_count": 46,
   "metadata": {
    "dotnet_interactive": {
     "language": "csharp"
    },
    "polyglot_notebook": {
     "kernelName": "csharp"
    }
   },
   "outputs": [],
   "source": [
    "#nullable enable\n",
    "using System.IO;"
   ]
  },
  {
   "cell_type": "code",
   "execution_count": null,
   "metadata": {
    "dotnet_interactive": {
     "language": "csharp"
    },
    "polyglot_notebook": {
     "kernelName": "csharp"
    }
   },
   "outputs": [],
   "source": [
    "public record Position(int Y, int X);\n",
    "\n",
    "public enum Direction\n",
    "{\n",
    "    Up,\n",
    "    Right,\n",
    "    Down,\n",
    "    Left\n",
    "}\n",
    "\n",
    "public static Direction Rotate(this Direction dir) => (int)dir == 3 ? 0 : ++dir;\n",
    "\n",
    "public static bool IsInRange(this int val, int min, int max) => val >= min && val < max;\n",
    "\n",
    "public static string ReplaceCharAtIndex(this string str, int index, char replacement)\n",
    "{\n",
    "        var chars = str.ToCharArray();\n",
    "        chars[index] = replacement;\n",
    "        return new string(chars);\n",
    "}"
   ]
  },
  {
   "cell_type": "code",
   "execution_count": null,
   "metadata": {
    "dotnet_interactive": {
     "language": "csharp"
    },
    "polyglot_notebook": {
     "kernelName": "csharp"
    }
   },
   "outputs": [],
   "source": [
    "var input = File.Exists(\"input.txt\") \n",
    "    ? File.ReadAllText(\"input.txt\")\n",
    "    : throw new Exception(\"Hittar inte filen\");\n",
    "\n",
    "var grid = input.Split(\"\\n\", StringSplitOptions.RemoveEmptyEntries)\n",
    "    .Select(i => i.Trim()).ToArray();"
   ]
  },
  {
   "cell_type": "markdown",
   "metadata": {},
   "source": [
    "Part 1"
   ]
  },
  {
   "cell_type": "code",
   "execution_count": null,
   "metadata": {
    "dotnet_interactive": {
     "language": "csharp"
    },
    "polyglot_notebook": {
     "kernelName": "csharp"
    }
   },
   "outputs": [
    {
     "data": {
      "text/html": [
       "<div class=\"dni-plaintext\"><pre>5212</pre></div><style>\r\n",
       ".dni-code-hint {\r\n",
       "    font-style: italic;\r\n",
       "    overflow: hidden;\r\n",
       "    white-space: nowrap;\r\n",
       "}\r\n",
       ".dni-treeview {\r\n",
       "    white-space: nowrap;\r\n",
       "}\r\n",
       ".dni-treeview td {\r\n",
       "    vertical-align: top;\r\n",
       "    text-align: start;\r\n",
       "}\r\n",
       "details.dni-treeview {\r\n",
       "    padding-left: 1em;\r\n",
       "}\r\n",
       "table td {\r\n",
       "    text-align: start;\r\n",
       "}\r\n",
       "table tr { \r\n",
       "    vertical-align: top; \r\n",
       "    margin: 0em 0px;\r\n",
       "}\r\n",
       "table tr td pre \r\n",
       "{ \r\n",
       "    vertical-align: top !important; \r\n",
       "    margin: 0em 0px !important;\r\n",
       "} \r\n",
       "table th {\r\n",
       "    text-align: start;\r\n",
       "}\r\n",
       "</style>"
      ]
     },
     "metadata": {},
     "output_type": "display_data"
    }
   ],
   "source": [
    "int[] moveY = [-1, 0, 1, 0];\n",
    "int[] moveX = [0, 1, 0, -1];\n",
    "var dir = Direction.Up;\n",
    "var position = grid.SelectMany((r, y) => r.Select((c, x) => (c, new Position(y, x))).Where(v => v.c is '^')).First().Item2;\n",
    "var visited = new HashSet<Position>() { position };\n",
    "var gH = grid.Length;\n",
    "var gW = grid[0].Length;\n",
    "\n",
    "while(position.Y+moveY[(int)dir] is int nextY && nextY.IsInRange(0, gH) \n",
    "    && position.X+moveX[(int)dir] is int nextX && nextX.IsInRange(0, gW))\n",
    "{\n",
    "    if(grid[nextY][nextX] == '#')\n",
    "    {\n",
    "        dir = dir.Rotate();\n",
    "    } \n",
    "    else \n",
    "    {\n",
    "        position = position with { Y = nextY, X = nextX };\n",
    "        visited.Add(position);\n",
    "    }\n",
    "}\n",
    "\n",
    "visited.Count"
   ]
  },
  {
   "cell_type": "markdown",
   "metadata": {},
   "source": [
    "Part 2"
   ]
  },
  {
   "cell_type": "code",
   "execution_count": null,
   "metadata": {
    "dotnet_interactive": {
     "language": "csharp"
    },
    "polyglot_notebook": {
     "kernelName": "csharp"
    }
   },
   "outputs": [
    {
     "data": {
      "text/html": [
       "<div class=\"dni-plaintext\"><pre>1767</pre></div><style>\r\n",
       ".dni-code-hint {\r\n",
       "    font-style: italic;\r\n",
       "    overflow: hidden;\r\n",
       "    white-space: nowrap;\r\n",
       "}\r\n",
       ".dni-treeview {\r\n",
       "    white-space: nowrap;\r\n",
       "}\r\n",
       ".dni-treeview td {\r\n",
       "    vertical-align: top;\r\n",
       "    text-align: start;\r\n",
       "}\r\n",
       "details.dni-treeview {\r\n",
       "    padding-left: 1em;\r\n",
       "}\r\n",
       "table td {\r\n",
       "    text-align: start;\r\n",
       "}\r\n",
       "table tr { \r\n",
       "    vertical-align: top; \r\n",
       "    margin: 0em 0px;\r\n",
       "}\r\n",
       "table tr td pre \r\n",
       "{ \r\n",
       "    vertical-align: top !important; \r\n",
       "    margin: 0em 0px !important;\r\n",
       "} \r\n",
       "table th {\r\n",
       "    text-align: start;\r\n",
       "}\r\n",
       "</style>"
      ]
     },
     "metadata": {},
     "output_type": "display_data"
    }
   ],
   "source": [
    "int[] moveY = [-1, 0, 1, 0];\n",
    "int[] moveX = [0, 1, 0, -1];\n",
    "var start = grid.SelectMany((r, y) => r.Select((c, x) => (c, new Position(y, x))).Where(v => v.c is '^')).First().Item2;\n",
    "var gH = grid.Length;\n",
    "var gW = grid[0].Length;\n",
    "\n",
    "var count = Enumerable.Range(0, gH).Sum(y => \n",
    "{\n",
    "    var chars = grid[y].ToCharArray();\n",
    "    return Enumerable.Range(0, gW).Count(x => {\n",
    "        if(grid[y][x] is '#' or '^') \n",
    "            return false;\n",
    "\n",
    "        grid[y] = grid[y].ReplaceCharAtIndex(x, '#');\n",
    "        var position = start;\n",
    "        var dir = Direction.Up;\n",
    "        var visited = new HashSet<Position>() { position };\n",
    "        var steps = 0;\n",
    "\n",
    "        while(position.Y+moveY[(int)dir] is int nextY && nextY.IsInRange(0, gH) \n",
    "            && position.X+moveX[(int)dir] is int nextX && nextX.IsInRange(0, gW))\n",
    "        {\n",
    "            if(grid[nextY][nextX] == '#')\n",
    "            {\n",
    "                dir = dir.Rotate();\n",
    "            } \n",
    "            else \n",
    "            {\n",
    "                position = position with { Y = nextY, X = nextX };\n",
    "                visited.Add(position);\n",
    "            }\n",
    "\n",
    "            if(steps++ > visited.Count*2) {\n",
    "                grid[y] = grid[y].ReplaceCharAtIndex(x, '.');\n",
    "                return true;\n",
    "            }\n",
    "        }\n",
    "\n",
    "        grid[y] = grid[y].ReplaceCharAtIndex(x, '.');\n",
    "        return false;\n",
    "    });\n",
    "});\n",
    "\n",
    "count"
   ]
  }
 ],
 "metadata": {
  "kernelspec": {
   "display_name": ".NET (C#)",
   "language": "C#",
   "name": ".net-csharp"
  },
  "polyglot_notebook": {
   "kernelInfo": {
    "defaultKernelName": "csharp",
    "items": [
     {
      "aliases": [],
      "languageName": "csharp",
      "name": "csharp"
     }
    ]
   }
  }
 },
 "nbformat": 4,
 "nbformat_minor": 2
}
