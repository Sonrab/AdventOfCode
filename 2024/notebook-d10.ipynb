{
 "cells": [
  {
   "cell_type": "code",
   "execution_count": 16,
   "metadata": {
    "dotnet_interactive": {
     "language": "csharp"
    },
    "polyglot_notebook": {
     "kernelName": "csharp"
    }
   },
   "outputs": [],
   "source": [
    "using System.IO;"
   ]
  },
  {
   "cell_type": "code",
   "execution_count": 17,
   "metadata": {
    "dotnet_interactive": {
     "language": "csharp"
    },
    "polyglot_notebook": {
     "kernelName": "csharp"
    }
   },
   "outputs": [],
   "source": [
    "var input = File.Exists(\"inputs/input-d10.txt\") \n",
    "    ? File.ReadAllText(\"inputs/input-d10.txt\")\n",
    "    : throw new Exception(\"Hittar inte filen\");"
   ]
  },
  {
   "cell_type": "code",
   "execution_count": 18,
   "metadata": {},
   "outputs": [],
   "source": [
    "public record Node(string Id, int Topology);"
   ]
  },
  {
   "cell_type": "code",
   "execution_count": 19,
   "metadata": {},
   "outputs": [],
   "source": [
    "public static int BFS1(this Node startNode, Dictionary<Node, List<Node>> nodes)\n",
    "{\n",
    "    var visited = new HashSet<Node>() { startNode };\n",
    "    int peaksFound = 0;\n",
    "\n",
    "    var queue = new Queue<Node>();\n",
    "    queue.Enqueue(startNode);\n",
    "    \n",
    "    while (queue.Count > 0)\n",
    "    {\n",
    "        var currentNode = queue.Dequeue();\n",
    "        visited.Add(currentNode);\n",
    "\n",
    "        foreach (var nb in nodes[currentNode])\n",
    "        {\n",
    "            if (!visited.Contains(nb) && currentNode.Topology == 8 && nb.Topology == 9)\n",
    "            {\n",
    "                peaksFound++;\n",
    "                visited.Add(nb);\n",
    "            }\n",
    "            else if(!visited.Contains(nb) && nb.Topology == currentNode.Topology+1)\n",
    "            {\n",
    "                queue.Enqueue(nb);\n",
    "            }\n",
    "        }\n",
    "    }\n",
    "\n",
    "    return peaksFound;\n",
    "}"
   ]
  },
  {
   "cell_type": "code",
   "execution_count": 20,
   "metadata": {},
   "outputs": [],
   "source": [
    "public static int BFS2(this Node startNode, Dictionary<Node, List<Node>> nodes)\n",
    "{\n",
    "    int trailsFound = 0;\n",
    "\n",
    "    var queue = new Queue<Node>();\n",
    "    queue.Enqueue(startNode);\n",
    "\n",
    "    while (queue.Count > 0)\n",
    "    {\n",
    "        var currentNode = queue.Dequeue();\n",
    "\n",
    "        foreach (var nb in nodes[currentNode])\n",
    "        {\n",
    "            if (currentNode.Topology == 8 && nb.Topology == 9)\n",
    "                trailsFound++;\n",
    "            else if (nb.Topology == currentNode.Topology + 1)\n",
    "                queue.Enqueue(nb);\n",
    "        }\n",
    "    }\n",
    "    \n",
    "    return trailsFound;\n",
    "}"
   ]
  },
  {
   "cell_type": "code",
   "execution_count": 21,
   "metadata": {
    "dotnet_interactive": {
     "language": "csharp"
    },
    "polyglot_notebook": {
     "kernelName": "csharp"
    }
   },
   "outputs": [],
   "source": [
    "var grid = input.Split(\"\\n\").Select((r, y) => r.Trim().Select((c, x) => new Node($\"{y}|{x}\", int.Parse(c.ToString()))).ToArray()).ToArray();\n",
    "var gH = grid.Length;\n",
    "var gW = grid[0].Length;\n",
    "\n",
    "var nodes = grid.SelectMany((r, y) => r.Select((c, x) =>\n",
    "{\n",
    "    var neighbours = new List<Node>();\n",
    "    if (y-1 >= 0) neighbours.Add(grid[y-1][x]);\n",
    "    if (y+1 < gH) neighbours.Add(grid[y+1][x]);\n",
    "    if (x-1 >= 0) neighbours.Add(grid[y][x-1]);\n",
    "    if (x+1 < gW) neighbours.Add(grid[y][x+1]);\n",
    "\n",
    "    return new KeyValuePair<Node, List<Node>>(grid[y][x], neighbours);\n",
    "})).ToDictionary();"
   ]
  },
  {
   "cell_type": "markdown",
   "metadata": {},
   "source": [
    "Part 1"
   ]
  },
  {
   "cell_type": "code",
   "execution_count": 22,
   "metadata": {
    "dotnet_interactive": {
     "language": "csharp"
    },
    "polyglot_notebook": {
     "kernelName": "csharp"
    }
   },
   "outputs": [
    {
     "data": {
      "text/html": [
       "<div class=\"dni-plaintext\"><pre>607</pre></div><style>\r\n",
       ".dni-code-hint {\r\n",
       "    font-style: italic;\r\n",
       "    overflow: hidden;\r\n",
       "    white-space: nowrap;\r\n",
       "}\r\n",
       ".dni-treeview {\r\n",
       "    white-space: nowrap;\r\n",
       "}\r\n",
       ".dni-treeview td {\r\n",
       "    vertical-align: top;\r\n",
       "    text-align: start;\r\n",
       "}\r\n",
       "details.dni-treeview {\r\n",
       "    padding-left: 1em;\r\n",
       "}\r\n",
       "table td {\r\n",
       "    text-align: start;\r\n",
       "}\r\n",
       "table tr { \r\n",
       "    vertical-align: top; \r\n",
       "    margin: 0em 0px;\r\n",
       "}\r\n",
       "table tr td pre \r\n",
       "{ \r\n",
       "    vertical-align: top !important; \r\n",
       "    margin: 0em 0px !important;\r\n",
       "} \r\n",
       "table th {\r\n",
       "    text-align: start;\r\n",
       "}\r\n",
       "</style>"
      ]
     },
     "metadata": {},
     "output_type": "display_data"
    }
   ],
   "source": [
    "var sum = nodes.Where(n => n.Key.Topology == 0).Sum(n => n.Key.BFS1(nodes));\n",
    "sum"
   ]
  },
  {
   "cell_type": "markdown",
   "metadata": {},
   "source": [
    "Part 2"
   ]
  },
  {
   "cell_type": "code",
   "execution_count": 23,
   "metadata": {},
   "outputs": [
    {
     "data": {
      "text/html": [
       "<div class=\"dni-plaintext\"><pre>1384</pre></div><style>\r\n",
       ".dni-code-hint {\r\n",
       "    font-style: italic;\r\n",
       "    overflow: hidden;\r\n",
       "    white-space: nowrap;\r\n",
       "}\r\n",
       ".dni-treeview {\r\n",
       "    white-space: nowrap;\r\n",
       "}\r\n",
       ".dni-treeview td {\r\n",
       "    vertical-align: top;\r\n",
       "    text-align: start;\r\n",
       "}\r\n",
       "details.dni-treeview {\r\n",
       "    padding-left: 1em;\r\n",
       "}\r\n",
       "table td {\r\n",
       "    text-align: start;\r\n",
       "}\r\n",
       "table tr { \r\n",
       "    vertical-align: top; \r\n",
       "    margin: 0em 0px;\r\n",
       "}\r\n",
       "table tr td pre \r\n",
       "{ \r\n",
       "    vertical-align: top !important; \r\n",
       "    margin: 0em 0px !important;\r\n",
       "} \r\n",
       "table th {\r\n",
       "    text-align: start;\r\n",
       "}\r\n",
       "</style>"
      ]
     },
     "metadata": {},
     "output_type": "display_data"
    }
   ],
   "source": [
    "var sum = nodes.Where(n => n.Key.Topology == 0).Sum(n => n.Key.BFS2(nodes));\n",
    "sum"
   ]
  }
 ],
 "metadata": {
  "kernelspec": {
   "display_name": ".NET (C#)",
   "language": "C#",
   "name": ".net-csharp"
  },
  "polyglot_notebook": {
   "kernelInfo": {
    "defaultKernelName": "csharp",
    "items": [
     {
      "aliases": [],
      "languageName": "csharp",
      "name": "csharp"
     }
    ]
   }
  }
 },
 "nbformat": 4,
 "nbformat_minor": 2
}
