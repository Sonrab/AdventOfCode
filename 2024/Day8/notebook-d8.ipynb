{
 "cells": [
  {
   "cell_type": "code",
   "execution_count": 46,
   "metadata": {
    "dotnet_interactive": {
     "language": "csharp"
    },
    "polyglot_notebook": {
     "kernelName": "csharp"
    }
   },
   "outputs": [],
   "source": [
    "#nullable enable\n",
    "using System.IO;\n",
    "using System.Collections.Generic;"
   ]
  },
  {
   "cell_type": "code",
   "execution_count": 47,
   "metadata": {
    "dotnet_interactive": {
     "language": "csharp"
    },
    "polyglot_notebook": {
     "kernelName": "csharp"
    }
   },
   "outputs": [],
   "source": [
    "var input = File.Exists(\"input.txt\") \n",
    "    ? File.ReadAllText(\"input.txt\")\n",
    "    : throw new Exception(\"Hittar inte filen\");"
   ]
  },
  {
   "cell_type": "code",
   "execution_count": null,
   "metadata": {
    "dotnet_interactive": {
     "language": "csharp"
    },
    "polyglot_notebook": {
     "kernelName": "csharp"
    }
   },
   "outputs": [],
   "source": [
    "public static bool IsInRange(this int val, int min, int max) => val >= min && val < max;\n",
    "\n",
    "public static Dictionary<T1, List<T2>> AddToValueList<T1, T2>(this Dictionary<T1, List<T2>> dict, T1 key, T2 value)\n",
    "{\n",
    "    if(dict.ContainsKey(key)) dict[key].Add(value);\n",
    "    else dict.Add(key, new List<T2>() { value });\n",
    "\n",
    "    return dict;\n",
    "}\n",
    "\n",
    "public record Position(int Y, int X);"
   ]
  },
  {
   "cell_type": "markdown",
   "metadata": {},
   "source": [
    "Part 1"
   ]
  },
  {
   "cell_type": "code",
   "execution_count": null,
   "metadata": {
    "dotnet_interactive": {
     "language": "csharp"
    },
    "polyglot_notebook": {
     "kernelName": "csharp"
    }
   },
   "outputs": [],
   "source": [
    "var rows = input.Split(\"\\n\", StringSplitOptions.RemoveEmptyEntries).Select(r => r.Trim());\n",
    "var antennas = new Dictionary<int, List<Position>>();\n",
    "var grid = rows.Select((r, y) => \n",
    "    r.Select((c, x) => {\n",
    "        int keycode = (int)c;\n",
    "        if(keycode != 46) antennas.AddToValueList(keycode, new Position(y, x));   \n",
    "        return keycode;\n",
    "    }).ToArray()\n",
    ").ToArray();"
   ]
  },
  {
   "cell_type": "code",
   "execution_count": null,
   "metadata": {
    "dotnet_interactive": {
     "language": "csharp"
    },
    "polyglot_notebook": {
     "kernelName": "csharp"
    }
   },
   "outputs": [],
   "source": [
    "var pairs = antennas.SelectMany(grp => \n",
    "    grp.Value.SelectMany((a, i) => \n",
    "        grp.Value[(i+1)..].Select(v => (a, v))));"
   ]
  },
  {
   "cell_type": "code",
   "execution_count": null,
   "metadata": {
    "dotnet_interactive": {
     "language": "csharp"
    },
    "polyglot_notebook": {
     "kernelName": "csharp"
    }
   },
   "outputs": [
    {
     "data": {
      "text/html": [
       "<div class=\"dni-plaintext\"><pre>273</pre></div><style>\r\n",
       ".dni-code-hint {\r\n",
       "    font-style: italic;\r\n",
       "    overflow: hidden;\r\n",
       "    white-space: nowrap;\r\n",
       "}\r\n",
       ".dni-treeview {\r\n",
       "    white-space: nowrap;\r\n",
       "}\r\n",
       ".dni-treeview td {\r\n",
       "    vertical-align: top;\r\n",
       "    text-align: start;\r\n",
       "}\r\n",
       "details.dni-treeview {\r\n",
       "    padding-left: 1em;\r\n",
       "}\r\n",
       "table td {\r\n",
       "    text-align: start;\r\n",
       "}\r\n",
       "table tr { \r\n",
       "    vertical-align: top; \r\n",
       "    margin: 0em 0px;\r\n",
       "}\r\n",
       "table tr td pre \r\n",
       "{ \r\n",
       "    vertical-align: top !important; \r\n",
       "    margin: 0em 0px !important;\r\n",
       "} \r\n",
       "table th {\r\n",
       "    text-align: start;\r\n",
       "}\r\n",
       "</style>"
      ]
     },
     "metadata": {},
     "output_type": "display_data"
    }
   ],
   "source": [
    "var gH = grid.Length;\n",
    "var gW = grid[0].Length;\n",
    "var antinodes = new HashSet<Position>();\n",
    "\n",
    "foreach(var (p1, p2) in pairs)\n",
    "{\n",
    "    var yDiff = p2.Y - p1.Y;\n",
    "    var xDiff = p2.X - p1.X;\n",
    "\n",
    "    if((p2.Y+yDiff).IsInRange(0, gH) && (p2.X+xDiff).IsInRange(0, gW)) \n",
    "        antinodes.Add(new Position(p2.Y+yDiff, p2.X+xDiff));\n",
    "        \n",
    "    if((p1.Y-yDiff).IsInRange(0, gH) && (p1.X-xDiff).IsInRange(0, gW)) \n",
    "        antinodes.Add(new Position(p1.Y-yDiff, p1.X-xDiff));\n",
    "}\n",
    "\n",
    "antinodes.Count"
   ]
  },
  {
   "cell_type": "markdown",
   "metadata": {},
   "source": [
    "Part 2"
   ]
  },
  {
   "cell_type": "code",
   "execution_count": null,
   "metadata": {
    "dotnet_interactive": {
     "language": "csharp"
    },
    "polyglot_notebook": {
     "kernelName": "csharp"
    }
   },
   "outputs": [
    {
     "data": {
      "text/html": [
       "<div class=\"dni-plaintext\"><pre>1017</pre></div><style>\r\n",
       ".dni-code-hint {\r\n",
       "    font-style: italic;\r\n",
       "    overflow: hidden;\r\n",
       "    white-space: nowrap;\r\n",
       "}\r\n",
       ".dni-treeview {\r\n",
       "    white-space: nowrap;\r\n",
       "}\r\n",
       ".dni-treeview td {\r\n",
       "    vertical-align: top;\r\n",
       "    text-align: start;\r\n",
       "}\r\n",
       "details.dni-treeview {\r\n",
       "    padding-left: 1em;\r\n",
       "}\r\n",
       "table td {\r\n",
       "    text-align: start;\r\n",
       "}\r\n",
       "table tr { \r\n",
       "    vertical-align: top; \r\n",
       "    margin: 0em 0px;\r\n",
       "}\r\n",
       "table tr td pre \r\n",
       "{ \r\n",
       "    vertical-align: top !important; \r\n",
       "    margin: 0em 0px !important;\r\n",
       "} \r\n",
       "table th {\r\n",
       "    text-align: start;\r\n",
       "}\r\n",
       "</style>"
      ]
     },
     "metadata": {},
     "output_type": "display_data"
    }
   ],
   "source": [
    "var gH = grid.Length;\n",
    "var gW = grid[0].Length;\n",
    "var antinodes = new HashSet<Position>();\n",
    "\n",
    "foreach(var (p1, p2) in pairs)\n",
    "{\n",
    "    antinodes.Add(new Position(p1.Y, p1.X));\n",
    "    antinodes.Add(new Position(p2.Y, p2.X));\n",
    "    var yDiff = p2.Y - p1.Y;\n",
    "    var xDiff = p2.X - p1.X;\n",
    "    \n",
    "    var multiplier = 1;\n",
    "    while((p2.Y + yDiff*multiplier).IsInRange(0, gH) && (p2.X + xDiff*multiplier).IsInRange(0, gW))\n",
    "        antinodes.Add(new Position(p2.Y+(yDiff*multiplier), p2.X+(xDiff*multiplier++)));\n",
    "\n",
    "    multiplier = 1;\n",
    "    while((p1.Y - yDiff*multiplier).IsInRange(0, gH) && (p1.X - xDiff*multiplier).IsInRange(0, gW))\n",
    "        antinodes.Add(new Position(p1.Y - yDiff*multiplier, p1.X - xDiff*multiplier++));\n",
    "}\n",
    "\n",
    "antinodes.Count"
   ]
  }
 ],
 "metadata": {
  "kernelspec": {
   "display_name": ".NET (C#)",
   "language": "C#",
   "name": ".net-csharp"
  },
  "polyglot_notebook": {
   "kernelInfo": {
    "defaultKernelName": "csharp",
    "items": [
     {
      "aliases": [],
      "languageName": "csharp",
      "name": "csharp"
     }
    ]
   }
  }
 },
 "nbformat": 4,
 "nbformat_minor": 2
}
