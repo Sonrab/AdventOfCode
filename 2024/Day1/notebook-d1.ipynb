{
 "cells": [
  {
   "cell_type": "code",
   "execution_count": null,
   "metadata": {
    "dotnet_interactive": {
     "language": "csharp"
    },
    "polyglot_notebook": {
     "kernelName": "csharp"
    }
   },
   "outputs": [],
   "source": [
    "using System.IO;\n",
    "using System.Text.RegularExpressions;"
   ]
  },
  {
   "cell_type": "code",
   "execution_count": null,
   "metadata": {
    "dotnet_interactive": {
     "language": "csharp"
    },
    "polyglot_notebook": {
     "kernelName": "csharp"
    }
   },
   "outputs": [],
   "source": [
    "var input = File.Exists(\"input.txt\") \n",
    "    ? File.ReadAllText(\"input.txt\")\n",
    "    : throw new Exception(\"Hittar inte filen\");"
   ]
  },
  {
   "cell_type": "markdown",
   "metadata": {},
   "source": [
    "Part 1"
   ]
  },
  {
   "cell_type": "code",
   "execution_count": null,
   "metadata": {
    "dotnet_interactive": {
     "language": "csharp"
    },
    "polyglot_notebook": {
     "kernelName": "csharp"
    }
   },
   "outputs": [],
   "source": [
    "List<int> l1 = new();\n",
    "List<int> l2 = new();\n",
    "\n",
    "var rows = Regex.Split(input, @\"\\n\");\n",
    "\n",
    "foreach(var row in rows)\n",
    "{\n",
    "    var pair = Regex.Split(row, @\"\\s+(?=\\S)\").Select(p => p.Trim()).ToArray();\n",
    "    l1.Add(int.Parse(pair[0]));\n",
    "    l2.Add(int.Parse(pair[1]));\n",
    "}\n",
    "\n",
    "l1.Sort();\n",
    "l2.Sort();"
   ]
  },
  {
   "cell_type": "code",
   "execution_count": null,
   "metadata": {
    "dotnet_interactive": {
     "language": "csharp"
    },
    "polyglot_notebook": {
     "kernelName": "csharp"
    }
   },
   "outputs": [],
   "source": [
    "var pairs = l1.Zip(l2);\n",
    "pairs.Sum(p => Math.Abs(p.Item1 - p.Item2))"
   ]
  },
  {
   "cell_type": "markdown",
   "metadata": {},
   "source": [
    "Part 2"
   ]
  },
  {
   "cell_type": "code",
   "execution_count": null,
   "metadata": {
    "dotnet_interactive": {
     "language": "csharp"
    },
    "polyglot_notebook": {
     "kernelName": "csharp"
    }
   },
   "outputs": [],
   "source": [
    "Dictionary<int, int> l2Dict = new();\n",
    "\n",
    "foreach(var val in l2)\n",
    "{\n",
    "    if(l2Dict.ContainsKey(val)) l2Dict[val]++;\n",
    "    else l2Dict.Add(val, 1);\n",
    "}\n",
    "\n",
    "var score = l1.Where(v => l2Dict.ContainsKey(v))\n",
    "    .Sum(v => v*l2Dict[v]);"
   ]
  }
 ],
 "metadata": {
  "kernelspec": {
   "display_name": ".NET (C#)",
   "language": "C#",
   "name": ".net-csharp"
  },
  "polyglot_notebook": {
   "kernelInfo": {
    "defaultKernelName": "csharp",
    "items": [
     {
      "aliases": [],
      "languageName": "csharp",
      "name": "csharp"
     }
    ]
   }
  }
 },
 "nbformat": 4,
 "nbformat_minor": 2
}
